{
 "cells": [
  {
   "cell_type": "code",
   "execution_count": 466,
   "id": "68846b5e-d1ac-48a5-8d54-e8ad5c893c9e",
   "metadata": {},
   "source": [
    "import pandas as pd\n",
    "from pandas import json_normalize\n",
    "import json\n",
    "import numpy as np\n",
    "from sklearn.ensemble import RandomForestClassifier\n",
    "from sklearn.preprocessing import LabelEncoder\n",
    "from sklearn.model_selection import train_test_split\n",
    "import seaborn as sns\n",
    "import matplotlib.pyplot as plt\n",
    "from xgboost import XGBClassifier\n",
    "from catboost import CatBoostClassifier\n",
    "from sklearn.model_selection import StratifiedKFold, cross_val_score\n",
    "from sklearn.metrics import accuracy_score, f1_score, confusion_matrix\n",
    "from sklearn.linear_model import LogisticRegression\n",
    "import warnings\n",
    "warnings.filterwarnings('ignore')"
   ],
   "outputs": []
  },
  {
   "cell_type": "markdown",
   "id": "00be1e1c-169d-4a7c-b162-fbc03fea5971",
   "metadata": {
    "jp-MarkdownHeadingCollapsed": true
   },
   "source": [
    "# Get Data"
   ]
  },
  {
   "cell_type": "code",
   "execution_count": 13,
   "id": "36a4fb49-72af-429c-b4d1-6fd3bc11fc2c",
   "metadata": {},
   "source": [
    "test_df = pd.read_csv('/Users/maksimtrebusinin/Downloads/test_csv.csv')\n",
    "test_df"
   ],
   "outputs": []
  },
  {
   "cell_type": "code",
   "execution_count": 269,
   "id": "43e530a1-3a49-4224-a91c-12c058bd41cf",
   "metadata": {},
   "source": [
    "data_list = []\n",
    "columns = test_df.columns\n",
    "with open('/Users/maksimtrebusinin/Downloads/fingerprints_with_os_checked.json') as file:\n",
    "    for line in file:\n",
    "        try:\n",
    "            # Разбираем каждую строку как отдельный JSON-объект\n",
    "            obj = json.loads(line.strip())\n",
    "            data_list.append(obj)\n",
    "        except json.JSONDecodeError as e:\n",
    "            print(f\"Ошибка при декодировании строки: {e}\")\n",
    "\n",
    "print(f'Count of JSON objects: {len(data_list)}')\n",
    "\n",
    "keylist = [el.split('.') for el in columns]\n",
    "\n",
    "def get_data(key, data):\n",
    "    if len(key) == 1:\n",
    "        key = key[0]\n",
    "        try:\n",
    "            return data[key]\n",
    "        except Exception as e:\n",
    "            return np.nan\n",
    "    elif len(key) == 2:\n",
    "        key1, key2, = key\n",
    "        try:\n",
    "            return data[key1][key2]\n",
    "        except Exception as e:\n",
    "            return np.nan\n",
    "    elif len(key) == 3:\n",
    "        key1, key2, key3 = key\n",
    "        try:\n",
    "            return data[key1][key2][key3]\n",
    "        except Exception as e:\n",
    "            return np.nan\n",
    "\n",
    "data_frame = pd.DataFrame(columns=columns)\n",
    "count = 1\n",
    "for data in data_list:\n",
    "    obj = []\n",
    "    for key in keylist:\n",
    "        obj.append(get_data(key=key,data=data))\n",
    "    prom_df = pd.DataFrame([obj], columns=columns)\n",
    "    data_frame = pd.concat([data_frame, prom_df], ignore_index=True)\n",
    "    if count % 200 == 0:\n",
    "        print(f'Lengh of data: {len(data_frame)}')\n",
    "data_frame.info()"
   ],
   "outputs": []
  },
  {
   "cell_type": "code",
   "execution_count": 200,
   "id": "ad5958a8-5b0d-476d-aa79-dd8104417311",
   "metadata": {},
   "source": [
    "with open('/Users/maksimtrebusinin/Downloads/scamalytics_rechecked.json') as f:\n",
    "    rechecked_data = json.load(f)\n",
    "rech_keys = [x for x in rechecked_data['79.210.243.3'].keys()]\n",
    "objects = []\n",
    "for el in rechecked_data:\n",
    "    objects.append(np.array([x for x in rechecked_data[el].values()]))\n",
    "rech_df = pd.DataFrame(data = objects, columns = rech_keys)"
   ],
   "outputs": []
  },
  {
   "cell_type": "code",
   "execution_count": 204,
   "id": "0acf84fc-77e9-449e-aaa8-7528aa4ff17e",
   "metadata": {},
   "source": [
    "rech_df.info()"
   ],
   "outputs": []
  },
  {
   "cell_type": "markdown",
   "id": "e6335b2d-1497-417f-98e4-ebe3baf57d59",
   "metadata": {},
   "source": [
    "# EDA"
   ]
  },
  {
   "cell_type": "code",
   "execution_count": 241,
   "id": "48d5357a-834c-4df8-9938-5b483ff9112f",
   "metadata": {},
   "source": [
    "def is_there_dupl(key):\n",
    "    key_columns = [x for x in data_frame.columns if key in x]\n",
    "    if data_frame[key_columns].duplicated().sum() > 0:\n",
    "        key_columns.append('ip')\n",
    "        print(data_frame[key_columns][data_frame[key_columns].duplicated() == True])\n",
    "    else:\n",
    "        print('No duplicates!')"
   ],
   "outputs": []
  },
  {
   "cell_type": "code",
   "execution_count": 233,
   "id": "e72d8916-10a7-4a10-ae8a-5e23d1ab9ddb",
   "metadata": {},
   "source": [
    "tls_columns = [x for x in data_frame.columns if 'tls' in x]\n",
    "if data_frame[tls_columns].drop(['tls.extensions','tls.ciphers'], axis=1).duplicated().sum() > 0:\n",
    "    tls_columns.append('ip')\n",
    "    data_frame[tls_columns]\n",
    "else:\n",
    "    print('No duplicates!')"
   ],
   "outputs": []
  },
  {
   "cell_type": "code",
   "execution_count": 270,
   "id": "5e59205d-5874-430d-ae23-3c42ef47628f",
   "metadata": {},
   "source": [
    "is_there_dupl('tcp')"
   ],
   "outputs": []
  },
  {
   "cell_type": "code",
   "execution_count": 271,
   "id": "77318751-03e4-460e-941e-e0237a342d24",
   "metadata": {},
   "source": [
    "data_frame.drop([869, 871, 872, 6490, 7363], axis=0, inplace=True)\n",
    "data_frame.drop('http2.sent_frames', axis=1, inplace=True)"
   ],
   "outputs": []
  },
  {
   "cell_type": "code",
   "execution_count": 272,
   "id": "30bdec5c-5dab-4add-b9f2-c91d87dd4e11",
   "metadata": {},
   "source": [
    "# Разделение akamai_fingerprint на составляющие\n",
    "data_frame['akamai_fingerprint.settings'] = data_frame['http2.akamai_fingerprint'].apply(lambda x: x.split('|')[0])\n",
    "data_frame['akamai_fingerprint.window_update'] = data_frame['http2.akamai_fingerprint'].apply(lambda x: x.split('|')[1])\n",
    "data_frame['akamai_fingerprint.priority_weights'] = data_frame['http2.akamai_fingerprint'].apply(lambda x: x.split('|')[2])\n",
    "data_frame['akamai_fingerprint.flags'] = data_frame['http2.akamai_fingerprint'].apply(lambda x: x.split('|')[3])\n",
    "\n",
    "# Удаление исходного столбца\n",
    "data_frame.drop(columns=['http2.akamai_fingerprint'], inplace=True)"
   ],
   "outputs": []
  },
  {
   "cell_type": "code",
   "execution_count": 273,
   "id": "1ae54243-20ad-442c-88e1-76f8be14018d",
   "metadata": {},
   "source": [
    "js_columns = ['js_fingerprint.fingerprint','js_fingerprint.fingerprints.persistentFp','js_fingerprint.fingerprints.uniqueFp',\n",
    "             'js_fingerprint.profile.deviceMemory','js_fingerprint.profile.screenResolution','js_fingerprint.profile.userAgentData',\n",
    "             'js_fingerprint.profile.platform']\n",
    "data_frame.drop([x for x in data_frame.columns if x not in 'js' in x and x not in js_columns], axis=1, inplace=True)"
   ],
   "outputs": []
  },
  {
   "cell_type": "code",
   "execution_count": 321,
   "id": "a351b864-9e77-4b63-9564-745d629de6aa",
   "metadata": {},
   "source": [
    "data_frame.reset_index(drop=True, inplace=True)"
   ],
   "outputs": []
  },
  {
   "cell_type": "code",
   "execution_count": 329,
   "id": "c6bfddda-7dd7-43a3-9512-3c760a0f61c3",
   "metadata": {},
   "source": [
    "data_frame.drop(['tcpip.cap_length','tcpip.dst_port','tcpip.src_port','tcpip.ip.id',\n",
    "                'tcpip.ip.tos','tcpip.ip.dst_ip','tcpip.ip.src_ip','tcpip.tcp.checksum',\n",
    "                'tcpip.tcp.options','tcpip.tcp.options_order','tcpip.tcp.seq', 'tcpip.tcp.options'], axis=1, inplace=True)"
   ],
   "outputs": []
  },
  {
   "cell_type": "code",
   "execution_count": 351,
   "id": "63d06904-0fbf-4c2a-bbcf-b65c2267ebde",
   "metadata": {},
   "source": [
    "data_frame['tls_version'] = data_frame['tls.ja3'].apply(lambda x: x.split(',')[0])\n",
    "data_frame['ciphers'] = data_frame['tls.ja3'].apply(lambda x: x.split(',')[1])\n",
    "data_frame['expansions'] = data_frame['tls.ja3'].apply(lambda x: x.split(',')[2])\n",
    "data_frame['supp_gr'] = data_frame['tls.ja3'].apply(lambda x: x.split(',')[3])\n",
    "data_frame['signature_algorithms'] = data_frame['tls.ja3'].apply(lambda x: x.split(',')[4])\n",
    "\n",
    "data_frame.drop(['tls.ciphers','tls.extensions','tls.tls_version_record','tls.peetprint',\n",
    "                'tls.peetprint','tls.client_random','tls.session_id'], axis=1, inplace=True)"
   ],
   "outputs": []
  },
  {
   "cell_type": "code",
   "execution_count": 369,
   "id": "b28194b0-ccf8-4ce4-ae1c-b6a2f49b5f68",
   "metadata": {},
   "source": [
    "data_frame.drop(['os_prediction.platform_mismatch','blacklist_info.blacklist_info.ip','blacklist_info.blacklist_info.FoundIn'],\n",
    "               axis=1, inplace = True)"
   ],
   "outputs": []
  },
  {
   "cell_type": "code",
   "execution_count": 373,
   "id": "9f9057e6-7982-4714-9bc0-acbd6ca1cb16",
   "metadata": {},
   "source": [
    "data_frame.info()"
   ],
   "outputs": []
  },
  {
   "cell_type": "code",
   "execution_count": 380,
   "id": "80fd0767-df25-43d1-91d0-6555fc542217",
   "metadata": {},
   "source": [
    "data_frame_with_out_js = data_frame.drop([x for x in data_frame.columns if 'js' in x], axis=1)\n",
    "del js"
   ],
   "outputs": []
  },
  {
   "cell_type": "code",
   "execution_count": 388,
   "id": "71835f91-271a-4b64-9efc-ad0858c28552",
   "metadata": {},
   "source": [
    "for col in data_frame_with_out_js.columns:\n",
    "    print(f'{col} - {data_frame_with_out_js[col][0]}')"
   ],
   "outputs": []
  },
  {
   "cell_type": "code",
   "execution_count": 394,
   "id": "1e3e2feb-1928-48c1-9afd-1676a22a5da1",
   "metadata": {},
   "source": [
    "data_frame_with_out_js.dropna(inplace=True)\n",
    "columns_for_switch_type = ['tls.tls_version_negotiated','tcpip.ip.ttl','tcpip.ip.ip_version','tcpip.tcp.mss',\n",
    "                          'tcpip.tcp.window','blacklist_info.blacklist_info.TotalBlacklists','blacklist_info.blacklist_info.CountFoundIn',\n",
    "                          'akamai_fingerprint.window_update','tls_version']\n",
    "for col in columns_for_switch_type:\n",
    "    data_frame_with_out_js[col] = data_frame_with_out_js[col].astype('int')"
   ],
   "outputs": []
  },
  {
   "cell_type": "code",
   "execution_count": 397,
   "id": "3bd4b06e-3bab-4dec-85b6-dd0f9d30722d",
   "metadata": {},
   "source": [
    "for col in data_frame_with_out_js.select_dtypes('object').columns:\n",
    "    data_frame_with_out_js[col] = LabelEncoder().fit_transform(data_frame_with_out_js[col])\n",
    "data_frame_with_out_js['os_prediction.highest'].value_counts()"
   ],
   "outputs": []
  },
  {
   "cell_type": "code",
   "execution_count": null,
   "id": "9f783c4c-62f8-4615-8750-eb5d5152145b",
   "metadata": {},
   "source": [
    "# Android: 0\n",
    "# Linux: 1\n",
    "# Mac OS: 2\n",
    "# Windows: 3\n",
    "# iOS: 4"
   ],
   "outputs": []
  },
  {
   "cell_type": "code",
   "execution_count": 403,
   "id": "558ef67e-4480-4de5-b399-dc34bbc0f5e8",
   "metadata": {},
   "source": [
    "data_frame_with_out_js[data_frame_with_out_js['os_prediction.highest'] == 2]"
   ],
   "outputs": []
  },
  {
   "cell_type": "code",
   "execution_count": 404,
   "id": "9469c52c-5e47-43a8-ae17-06a232aa01e5",
   "metadata": {},
   "source": [
    "for col in data_frame_with_out_js.columns:\n",
    "    print(f'{col} - {data_frame_with_out_js[col].nunique()} unique values')"
   ],
   "outputs": []
  },
  {
   "cell_type": "code",
   "execution_count": 410,
   "id": "ca68d017-18af-462f-a42f-061b738f1567",
   "metadata": {},
   "source": [
    "plt.figure(figsize=(20,20))\n",
    "sns.heatmap(data_frame_with_out_js.select_dtypes('int').corr(), annot = True, cmap='coolwarm', vmin=-1, center=0, vmax=1, fmt='.2f')\n",
    "plt.show()"
   ],
   "outputs": []
  },
  {
   "cell_type": "markdown",
   "id": "0ba88b54-5ea6-421f-90c2-42d84faa9d19",
   "metadata": {},
   "source": [
    "# Training and Testing models"
   ]
  },
  {
   "cell_type": "code",
   "execution_count": 420,
   "id": "2dd2860b-1c39-4ccb-b5b3-f274a7c11e25",
   "metadata": {},
   "source": [
    "models = [XGBClassifier(), CatBoostClassifier(verbose=False), RandomForestClassifier()]\n",
    "X,y = data_frame_with_out_js.drop('os_prediction.highest', axis=1), data_frame_with_out_js['os_prediction.highest']\n",
    "X_tr, X_t, y_tr, y_t = train_test_split(X,y, test_size=0.25, random_state=42, stratify=y)\n",
    "for model in models:\n",
    "    model.fit(X_tr,y_tr)\n",
    "    pred = model.predict(X_t)\n",
    "    print(f'Accuarcy: {accuracy_score(y_t,pred)}')\n",
    "    print(f'F1_score: {f1_score(y_t,pred, average=\"weighted\")}')\n",
    "    print('----------')"
   ],
   "outputs": []
  },
  {
   "cell_type": "code",
   "execution_count": 425,
   "id": "0308fa02-8330-4449-ba02-890137ffc243",
   "metadata": {},
   "source": [
    "xgb = XGBClassifier()\n",
    "cv = StratifiedKFold(n_splits=6, shuffle=True, random_state=42)\n",
    "for scoring in ['f1_macro', 'f1_micro', 'f1_weighted','recall_weighted']:\n",
    "    cross_val = cross_val_score(xgb, X,y, cv=cv, scoring=scoring)\n",
    "    print(f'{scoring} - {cross_val.mean()}')"
   ],
   "outputs": []
  },
  {
   "cell_type": "code",
   "execution_count": 433,
   "id": "dcc2d088-e7b6-4c6b-90fd-1fd1fcfceef0",
   "metadata": {},
   "source": [
    "def cross_val(df, list_of_scores, model):\n",
    "    X,y = df.drop('os_prediction.highest', axis=1), df['os_prediction.highest']\n",
    "    cv = StratifiedKFold(n_splits=6, shuffle=True, random_state=42)\n",
    "    for scoring in list_of_scores:\n",
    "        cross_v = cross_val_score(model, X,y, cv=cv, scoring=scoring)\n",
    "        print(f'{scoring} - {cross_v.mean()}')"
   ],
   "outputs": []
  },
  {
   "cell_type": "code",
   "execution_count": 434,
   "id": "edb38f4b-62ba-4e57-8ec8-f450ac121022",
   "metadata": {},
   "source": [
    "test = data_frame_with_out_js.drop(['user_agent','tls.ja3_hash','tls.peetprint_hash'], axis=1)\n",
    "xgb = XGBClassifier()\n",
    "cross_val(test, ['f1_macro', 'f1_micro', 'f1_weighted','recall_weighted'], xgb)"
   ],
   "outputs": []
  },
  {
   "cell_type": "code",
   "execution_count": 451,
   "id": "ff985fe0-83df-4017-8010-5196b1d51cae",
   "metadata": {},
   "source": [
    "test.drop_duplicates(inplace=True)"
   ],
   "outputs": []
  },
  {
   "cell_type": "code",
   "execution_count": 452,
   "id": "ded47291-e6d5-4c0f-8fe1-a68a91213314",
   "metadata": {},
   "source": [
    "X,y = test.drop('os_prediction.highest', axis=1), test['os_prediction.highest']\n",
    "X_train, X_test, y_train, y_test = train_test_split(X,y, test_size=0.3, stratify=y, random_state=42)\n",
    "print(f'y_train labesl: {np.bincount(y_train)}')\n",
    "print(f'y_test labesl: {np.bincount(y_test)}')\n",
    "\n",
    "rnf = RandomForestClassifier()\n",
    "rnf.fit(X_train,y_train)\n",
    "y_pred = rnf.predict(X_test)\n",
    "print(f'f1_macro: {f1_score(y_test, y_pred, average=\"macro\")}')"
   ],
   "outputs": []
  },
  {
   "cell_type": "code",
   "execution_count": null,
   "id": "aa6bc9f4-e48b-45e4-86c8-dbf7944e5748",
   "metadata": {},
   "source": [
    "import joblib\n",
    "\n",
    "joblib.dump(rnf, 'random_forest_model.pkl')"
   ],
   "outputs": []
  },
  {
   "cell_type": "markdown",
   "id": "1db0119e-33e4-41e8-84c4-8d0454459f2f",
   "metadata": {
    "jp-MarkdownHeadingCollapsed": true
   },
   "source": [
    "# Interpretation"
   ]
  },
  {
   "cell_type": "code",
   "execution_count": 453,
   "id": "f0bdb228-250c-44cb-a1cc-b34f9f36c730",
   "metadata": {},
   "source": [
    "importances = rnf.feature_importances_\n",
    "feature_df = pd.DataFrame({\n",
    "    'Feature': X.columns,\n",
    "    'Importance': importances\n",
    "}).sort_values(by='Importance', ascending=False)\n",
    "plt.figure(figsize=(10, 6))\n",
    "plt.barh(feature_df['Feature'], feature_df['Importance'], color='skyblue')\n",
    "plt.xlabel('Важность признака')\n",
    "plt.ylabel('Признак')\n",
    "plt.title('Важность признаков в модели Random Forest')\n",
    "plt.gca().invert_yaxis()  # Инвертируем ось Y для удобства чтения\n",
    "plt.show()"
   ],
   "outputs": []
  },
  {
   "cell_type": "code",
   "execution_count": 460,
   "id": "04f8ef2b-71dc-4099-88cb-7d157e074e52",
   "metadata": {},
   "source": [
    "grouped = test.groupby('os_prediction.highest')"
   ],
   "outputs": []
  },
  {
   "cell_type": "code",
   "execution_count": 467,
   "id": "22e6e0c8-0f73-4e08-8731-0e73e23b54b0",
   "metadata": {},
   "source": [
    "# Построение KDE для 'tcpip.tcp.window'\n",
    "plt.figure(figsize=(10, 6))\n",
    "for os, group in grouped:\n",
    "    sns.kdeplot(group['tcpip.tcp.window'], label=os, shade=True)\n",
    "plt.title('KDE для tcpip.tcp.window')\n",
    "plt.xlabel('Значение tcpip.tcp.window')\n",
    "plt.ylabel('Плотность')\n",
    "plt.legend(title='Операционная система')\n",
    "plt.show()\n",
    "\n",
    "# Построение KDE для 'tcpip.ip.ttl'\n",
    "plt.figure(figsize=(10, 6))\n",
    "for os, group in grouped:\n",
    "    sns.kdeplot(group['tcpip.ip.ttl'], label=os, shade=True)\n",
    "plt.title('KDE для tcpip.ip.ttl')\n",
    "plt.xlabel('Значение tcpip.ip.ttl')\n",
    "plt.ylabel('Плотность')\n",
    "plt.legend(title='Операционная система')\n",
    "plt.show()"
   ],
   "outputs": []
  },
  {
   "cell_type": "code",
   "execution_count": null,
   "id": "f8bc7fd4-13e5-46f6-890f-e1c2a4a42daa",
   "metadata": {},
   "source": [],
   "outputs": []
  }
 ],
 "metadata": {
  "kernelspec": {
   "display_name": "Python 3 (ipykernel)",
   "language": "python",
   "name": "python3"
  },
  "language_info": {
   "codemirror_mode": {
    "name": "ipython",
    "version": 3
   },
   "file_extension": ".py",
   "mimetype": "text/x-python",
   "name": "python",
   "nbconvert_exporter": "python",
   "pygments_lexer": "ipython3",
   "version": "3.11.7"
  }
 },
 "nbformat": 4,
 "nbformat_minor": 5
}
